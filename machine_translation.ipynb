{
 "cells": [
  {
   "cell_type": "markdown",
   "metadata": {
    "collapsed": true
   },
   "source": [
    "# Artificial Intelligence Nanodegree\n",
    "## Machine Translation Project\n",
    "\n",
    "In this notebook, you will build a deep neural network that functions as part of an end-to-end machine translation pipeline. The completed pipeline will accept English text as input and return the French translation.\n",
    "\n",
    "- **Preprocess** - You'll convert text to sequence of integers.\n",
    "- **Models** Create models which accepts a sequence of integers as input and returns a probability distribution over possible translations. After learning about the basic types of neural networks that are often used for machine translation, you will engage in your own investigations, to design your own model!\n",
    "- **Prediction** Run the model on English text."
   ]
  },
  {
   "cell_type": "code",
   "execution_count": 1,
   "metadata": {},
   "outputs": [],
   "source": [
    "%load_ext autoreload\n",
    "%aimport helper, tests\n",
    "%autoreload 1"
   ]
  },
  {
   "cell_type": "code",
   "execution_count": 2,
   "metadata": {},
   "outputs": [
    {
     "data": {
      "text/plain": [
       "'1.3.0'"
      ]
     },
     "execution_count": 2,
     "metadata": {},
     "output_type": "execute_result"
    }
   ],
   "source": [
    "import tensorflow\n",
    "tensorflow.__version__"
   ]
  },
  {
   "cell_type": "code",
   "execution_count": 3,
   "metadata": {},
   "outputs": [
    {
     "name": "stderr",
     "output_type": "stream",
     "text": [
      "Using TensorFlow backend.\n"
     ]
    }
   ],
   "source": [
    "import collections\n",
    "\n",
    "import helper\n",
    "import numpy as np\n",
    "import project_tests as tests\n",
    "\n",
    "from keras.preprocessing.text import Tokenizer\n",
    "from keras.preprocessing.sequence import pad_sequences\n",
    "from keras.models import Model\n",
    "from keras import Sequential\n",
    "from keras.layers import GRU, Input, Dense, TimeDistributed, Activation, RepeatVector, Bidirectional\n",
    "from keras.layers.embeddings import Embedding\n",
    "from keras.optimizers import Adam\n",
    "from keras.losses import sparse_categorical_crossentropy"
   ]
  },
  {
   "cell_type": "markdown",
   "metadata": {},
   "source": [
    "### Verify access to the GPU\n",
    "The following test applies only if you expect to be using a GPU, e.g., while running in a Udacity Workspace or using an AWS instance with GPU support. Run the next cell, and verify that the device_type is \"GPU\".\n",
    "- If the device is not GPU & you are running from a Udacity Workspace, then save your workspace with the icon at the top, then click \"enable\" at the bottom of the workspace.\n",
    "- If the device is not GPU & you are running from an AWS instance, then refer to the cloud computing instructions in the classroom to verify your setup steps."
   ]
  },
  {
   "cell_type": "code",
   "execution_count": 4,
   "metadata": {},
   "outputs": [
    {
     "name": "stdout",
     "output_type": "stream",
     "text": [
      "[name: \"/cpu:0\"\n",
      "device_type: \"CPU\"\n",
      "memory_limit: 268435456\n",
      "locality {\n",
      "}\n",
      "incarnation: 12913954108617890371\n",
      ", name: \"/gpu:0\"\n",
      "device_type: \"GPU\"\n",
      "memory_limit: 357564416\n",
      "locality {\n",
      "  bus_id: 1\n",
      "}\n",
      "incarnation: 15392779437507797026\n",
      "physical_device_desc: \"device: 0, name: Tesla K80, pci bus id: 0000:00:04.0\"\n",
      "]\n"
     ]
    }
   ],
   "source": [
    "from tensorflow.python.client import device_lib\n",
    "print(device_lib.list_local_devices())"
   ]
  },
  {
   "cell_type": "code",
   "execution_count": 5,
   "metadata": {},
   "outputs": [
    {
     "data": {
      "text/plain": [
       "'2.0.9'"
      ]
     },
     "execution_count": 5,
     "metadata": {},
     "output_type": "execute_result"
    }
   ],
   "source": [
    "import keras\n",
    "keras.__version__"
   ]
  },
  {
   "cell_type": "markdown",
   "metadata": {},
   "source": [
    "## Dataset\n",
    "We begin by investigating the dataset that will be used to train and evaluate your pipeline.  The most common datasets used for machine translation are from [WMT](http://www.statmt.org/).  However, that will take a long time to train a neural network on.  We'll be using a dataset we created for this project that contains a small vocabulary.  You'll be able to train your model in a reasonable time with this dataset.\n",
    "### Load Data\n",
    "The `small_vocab_en` file contains English sentences with their French translations in the `small_vocab_fr` file. Load the English and French data from these files from running the cell below."
   ]
  },
  {
   "cell_type": "code",
   "execution_count": 6,
   "metadata": {
    "scrolled": true
   },
   "outputs": [
    {
     "name": "stdout",
     "output_type": "stream",
     "text": [
      "Dataset Loaded\n"
     ]
    }
   ],
   "source": [
    "# Load English data\n",
    "english_sentences = helper.load_data('translation_data/small_vocab_en')\n",
    "# Load French data\n",
    "french_sentences = helper.load_data('translation_data/small_vocab_fr')\n",
    "\n",
    "print('Dataset Loaded')"
   ]
  },
  {
   "cell_type": "markdown",
   "metadata": {},
   "source": [
    "### Files\n",
    "Each line in `small_vocab_en` contains an English sentence with the respective translation in each line of `small_vocab_fr`.  View the first two lines from each file."
   ]
  },
  {
   "cell_type": "code",
   "execution_count": 7,
   "metadata": {},
   "outputs": [
    {
     "name": "stdout",
     "output_type": "stream",
     "text": [
      "small_vocab_en Line 1:  new jersey is sometimes quiet during autumn , and it is snowy in april .\n",
      "small_vocab_fr Line 1:  new jersey est parfois calme pendant l' automne , et il est neigeux en avril .\n",
      "small_vocab_en Line 2:  the united states is usually chilly during july , and it is usually freezing in november .\n",
      "small_vocab_fr Line 2:  les états-unis est généralement froid en juillet , et il gèle habituellement en novembre .\n"
     ]
    }
   ],
   "source": [
    "for sample_i in range(2):\n",
    "    print('small_vocab_en Line {}:  {}'.format(sample_i + 1, english_sentences[sample_i]))\n",
    "    print('small_vocab_fr Line {}:  {}'.format(sample_i + 1, french_sentences[sample_i]))"
   ]
  },
  {
   "cell_type": "markdown",
   "metadata": {},
   "source": [
    "From looking at the sentences, you can see they have been preprocessed already.  The puncuations have been delimited using spaces. All the text have been converted to lowercase.  This should save you some time, but the text requires more preprocessing.\n",
    "### Vocabulary\n",
    "The complexity of the problem is determined by the complexity of the vocabulary.  A more complex vocabulary is a more complex problem.  Let's look at the complexity of the dataset we'll be working with."
   ]
  },
  {
   "cell_type": "code",
   "execution_count": 8,
   "metadata": {},
   "outputs": [
    {
     "name": "stdout",
     "output_type": "stream",
     "text": [
      "1823250 English words.\n",
      "227 unique English words.\n",
      "10 Most common words in the English dataset:\n",
      "\"is\" \",\" \".\" \"in\" \"it\" \"during\" \"the\" \"but\" \"and\" \"sometimes\"\n",
      "\n",
      "1961295 French words.\n",
      "355 unique French words.\n",
      "10 Most common words in the French dataset:\n",
      "\"est\" \".\" \",\" \"en\" \"il\" \"les\" \"mais\" \"et\" \"la\" \"parfois\"\n"
     ]
    }
   ],
   "source": [
    "english_words_counter = collections.Counter([word for sentence in english_sentences for word in sentence.split()])\n",
    "french_words_counter = collections.Counter([word for sentence in french_sentences for word in sentence.split()])\n",
    "\n",
    "print('{} English words.'.format(len([word for sentence in english_sentences for word in sentence.split()])))\n",
    "print('{} unique English words.'.format(len(english_words_counter)))\n",
    "print('10 Most common words in the English dataset:')\n",
    "print('\"' + '\" \"'.join(list(zip(*english_words_counter.most_common(10)))[0]) + '\"')\n",
    "print()\n",
    "print('{} French words.'.format(len([word for sentence in french_sentences for word in sentence.split()])))\n",
    "print('{} unique French words.'.format(len(french_words_counter)))\n",
    "print('10 Most common words in the French dataset:')\n",
    "print('\"' + '\" \"'.join(list(zip(*french_words_counter.most_common(10)))[0]) + '\"')"
   ]
  },
  {
   "cell_type": "markdown",
   "metadata": {},
   "source": [
    "For comparison, _Alice's Adventures in Wonderland_ contains 2,766 unique words of a total of 15,500 words.\n",
    "## Preprocess\n",
    "Convert the text into sequences of integers using the following preprocess methods:\n",
    "1. Tokenize the words into ids\n",
    "2. Add padding to make all the sequences the same length.\n",
    "\n",
    "### Tokenize\n",
    "For a neural network to predict on text data, it first has to be turned into data it can understand. Text data like \"dog\" is a sequence of ASCII character encodings.  Since a neural network is a series of multiplication and addition operations, the input data needs to be number(s).\n",
    "\n",
    "We can turn each character into a number or each word into a number.  These are called character and word ids, respectively.  Character ids are used for character level models that generate text predictions for each character.  A word level model uses word ids that generate text predictions for each word.  Word level models tend to learn better, since they are lower in complexity, so we'll use those.\n",
    "\n",
    "Each sentence is converted into a sequence of words ids using Keras's [`Tokenizer`] function to tokenize `english_sentences` and `french_sentences` in the cell below."
   ]
  },
  {
   "cell_type": "code",
   "execution_count": 9,
   "metadata": {},
   "outputs": [
    {
     "name": "stdout",
     "output_type": "stream",
     "text": [
      "['The quick brown fox jumps over the lazy dog .', 'By Jove , my quick study of lexicography won a prize .', 'This is a short sentence .']\n",
      "['The quick brown fox jumps over the lazy dog .', 'By Jove , my quick study of lexicography won a prize .', 'This is a short sentence .']\n",
      "{'the': 1, 'quick': 2, 'a': 3, 'brown': 4, 'fox': 5, 'jumps': 6, 'over': 7, 'lazy': 8, 'dog': 9, 'by': 10, 'jove': 11, 'my': 12, 'study': 13, 'of': 14, 'lexicography': 15, 'won': 16, 'prize': 17, 'this': 18, 'is': 19, 'short': 20, 'sentence': 21}\n",
      "\n",
      "Sequence 1 in x\n",
      "  Input:  The quick brown fox jumps over the lazy dog .\n",
      "  Output: [1, 2, 4, 5, 6, 7, 1, 8, 9]\n",
      "Sequence 2 in x\n",
      "  Input:  By Jove , my quick study of lexicography won a prize .\n",
      "  Output: [10, 11, 12, 2, 13, 14, 15, 16, 3, 17]\n",
      "Sequence 3 in x\n",
      "  Input:  This is a short sentence .\n",
      "  Output: [18, 19, 3, 20, 21]\n"
     ]
    }
   ],
   "source": [
    "def tokenize(x):\n",
    "    \"\"\"\n",
    "    Tokenize x\n",
    "    :param x: List of sentences/strings to be tokenized\n",
    "    :return: Tuple of (tokenized x data, tokenizer used to tokenize x)\n",
    "    \"\"\"\n",
    "    print(x)\n",
    "    tkn = Tokenizer(lower=True)\n",
    "    tkn.fit_on_texts(x)\n",
    "    return tkn.texts_to_sequences(x),tkn\n",
    "\n",
    "tests.test_tokenize(tokenize)\n",
    "\n",
    "# Tokenize Example output\n",
    "text_sentences = [\n",
    "    'The quick brown fox jumps over the lazy dog .',\n",
    "    'By Jove , my quick study of lexicography won a prize .',\n",
    "    'This is a short sentence .']\n",
    "text_tokenized, text_tokenizer = tokenize(text_sentences)\n",
    "print(text_tokenizer.word_index)\n",
    "print()\n",
    "for sample_i, (sent, token_sent) in enumerate(zip(text_sentences, text_tokenized)):\n",
    "    print('Sequence {} in x'.format(sample_i + 1))\n",
    "    print('  Input:  {}'.format(sent))\n",
    "    print('  Output: {}'.format(token_sent))"
   ]
  },
  {
   "cell_type": "markdown",
   "metadata": {},
   "source": [
    "### Padding\n",
    "When batching the sequence of word ids together, each sequence needs to be the same length.  Since sentences are dynamic in length, we can add padding to the end of the sequences to make them the same length.\n",
    "\n",
    "All the English sequences can have the same length and all the French sequences can have the same length by adding padding to the **end** of each sequence using Keras's [`pad_sequences`] function."
   ]
  },
  {
   "cell_type": "code",
   "execution_count": 10,
   "metadata": {},
   "outputs": [
    {
     "name": "stdout",
     "output_type": "stream",
     "text": [
      "Sequence 1 in x\n",
      "  Input:  [1 2 4 5 6 7 1 8 9]\n",
      "  Output: [1 2 4 5 6 7 1 8 9 0]\n",
      "Sequence 2 in x\n",
      "  Input:  [10 11 12  2 13 14 15 16  3 17]\n",
      "  Output: [10 11 12  2 13 14 15 16  3 17]\n",
      "Sequence 3 in x\n",
      "  Input:  [18 19  3 20 21]\n",
      "  Output: [18 19  3 20 21  0  0  0  0  0]\n"
     ]
    }
   ],
   "source": [
    "def pad(x, length=None):\n",
    "    \"\"\"\n",
    "    Pad x\n",
    "    :param x: List of sequences.\n",
    "    :param length: Length to pad the sequence to.  If None, use length of longest sequence in x.\n",
    "    :return: Padded numpy array of sequences\n",
    "    \"\"\"\n",
    "    maxlen = max(len(i) for i in x) if length is None else length\n",
    "    padded_x = pad_sequences(x,maxlen=maxlen,padding='post')\n",
    "    return padded_x\n",
    "tests.test_pad(pad)\n",
    "\n",
    "# Pad Tokenized output\n",
    "test_pad = pad(text_tokenized)\n",
    "for sample_i, (token_sent, pad_sent) in enumerate(zip(text_tokenized, test_pad)):\n",
    "    print('Sequence {} in x'.format(sample_i + 1))\n",
    "    print('  Input:  {}'.format(np.array(token_sent)))\n",
    "    print('  Output: {}'.format(pad_sent))"
   ]
  },
  {
   "cell_type": "markdown",
   "metadata": {},
   "source": [
    "### Preprocess Pipeline"
   ]
  },
  {
   "cell_type": "code",
   "execution_count": 11,
   "metadata": {},
   "outputs": [
    {
     "name": "stderr",
     "output_type": "stream",
     "text": [
      "IOPub data rate exceeded.\n",
      "The notebook server will temporarily stop sending output\n",
      "to the client in order to avoid crashing it.\n",
      "To change this limit, set the config variable\n",
      "`--NotebookApp.iopub_data_rate_limit`.\n",
      "\n",
      "Current values:\n",
      "NotebookApp.iopub_data_rate_limit=1000000.0 (bytes/sec)\n",
      "NotebookApp.rate_limit_window=3.0 (secs)\n",
      "\n"
     ]
    },
    {
     "name": "stdout",
     "output_type": "stream",
     "text": [
      "Data Preprocessed\n",
      "Max English sentence length: 15\n",
      "Max French sentence length: 21\n",
      "English vocabulary size: 199\n",
      "French vocabulary size: 344\n"
     ]
    }
   ],
   "source": [
    "def preprocess(x, y):\n",
    "    \"\"\"\n",
    "    Preprocess x and y\n",
    "    :param x: Feature List of sentences\n",
    "    :param y: Label List of sentences\n",
    "    :return: Tuple of (Preprocessed x, Preprocessed y, x tokenizer, y tokenizer)\n",
    "    \"\"\"\n",
    "    preprocess_x, x_tk = tokenize(x)\n",
    "    preprocess_y, y_tk = tokenize(y)\n",
    "\n",
    "    preprocess_x = pad(preprocess_x)\n",
    "    preprocess_y = pad(preprocess_y)\n",
    "\n",
    "    # Keras's sparse_categorical_crossentropy function requires the labels to be in 3 dimensions\n",
    "    preprocess_y = preprocess_y.reshape(*preprocess_y.shape, 1)\n",
    "\n",
    "    return preprocess_x, preprocess_y, x_tk, y_tk\n",
    "\n",
    "preproc_english_sentences, preproc_french_sentences, english_tokenizer, french_tokenizer =\\\n",
    "    preprocess(english_sentences, french_sentences)\n",
    "    \n",
    "max_english_sequence_length = preproc_english_sentences.shape[1]\n",
    "max_french_sequence_length = preproc_french_sentences.shape[1]\n",
    "english_vocab_size = len(english_tokenizer.word_index)\n",
    "french_vocab_size = len(french_tokenizer.word_index)\n",
    "\n",
    "print('Data Preprocessed')\n",
    "print(\"Max English sentence length:\", max_english_sequence_length)\n",
    "print(\"Max French sentence length:\", max_french_sequence_length)\n",
    "print(\"English vocabulary size:\", english_vocab_size)\n",
    "print(\"French vocabulary size:\", french_vocab_size)"
   ]
  },
  {
   "cell_type": "markdown",
   "metadata": {},
   "source": [
    "## Models\n",
    "We will experiment with various neural network architectures starting with relatively simple architectures.\n",
    "- Model 1 is a simple RNN\n",
    "- Model 2 is a RNN with Embedding\n",
    "- Model 3 is a Bidirectional RNN\n",
    "- Model 4 is an Encoder-Decoder RNN"
   ]
  },
  {
   "cell_type": "markdown",
   "metadata": {},
   "source": [
    "### Ids Back to Text\n",
    "The neural network will be translating the input to words ids, which isn't the final form we want.  We want the French translation.  The function `logits_to_text` will bridge the gab between the logits from the neural network to the French translation. \n",
    "(This function will also help to better understand the output of the neural network)"
   ]
  },
  {
   "cell_type": "code",
   "execution_count": 12,
   "metadata": {},
   "outputs": [
    {
     "name": "stdout",
     "output_type": "stream",
     "text": [
      "`logits_to_text` function loaded.\n"
     ]
    }
   ],
   "source": [
    "def logits_to_text(logits, tokenizer):\n",
    "    \"\"\"\n",
    "    Turn logits from a neural network into text using the tokenizer\n",
    "    :param logits: Logits from a neural network\n",
    "    :param tokenizer: Keras Tokenizer fit on the labels\n",
    "    :return: String that represents the text of the logits\n",
    "    \"\"\"\n",
    "    index_to_words = {_id: word for word, _id in tokenizer.word_index.items()}\n",
    "    index_to_words[0] = '<PAD>'\n",
    "\n",
    "    return ' '.join([index_to_words[prediction] for prediction in np.argmax(logits, 1)])\n",
    "\n",
    "print('`logits_to_text` function loaded.')"
   ]
  },
  {
   "cell_type": "markdown",
   "metadata": {},
   "source": [
    "### Model 1: RNN\n",
    "![RNN](images/rnn.png)\n",
    "A basic RNN model is a good baseline for sequence data. In this model, a RNN will translates English to French."
   ]
  },
  {
   "cell_type": "code",
   "execution_count": 14,
   "metadata": {},
   "outputs": [
    {
     "name": "stdout",
     "output_type": "stream",
     "text": [
      "English: ['new', 'jersey', 'is', 'sometimes', 'quiet', 'during', 'autumn', 'and', 'it', 'is', 'snowy', 'in', 'april', '<PAD>', '<PAD>', '<PAD>', '<PAD>', '<PAD>', '<PAD>', '<PAD>', '<PAD>']\n",
      "Train on 110288 samples, validate on 27573 samples\n",
      "Epoch 1/40\n",
      "110288/110288 [==============================] - 19s 170us/step - loss: 1.5845 - acc: 0.5937 - val_loss: nan - val_acc: 0.6615\n",
      "Epoch 2/40\n",
      "110288/110288 [==============================] - 18s 166us/step - loss: 1.0539 - acc: 0.6679 - val_loss: nan - val_acc: 0.6813\n",
      "Epoch 3/40\n",
      "110288/110288 [==============================] - 18s 166us/step - loss: 0.9358 - acc: 0.6894 - val_loss: nan - val_acc: 0.6999\n",
      "Epoch 4/40\n",
      "110288/110288 [==============================] - 18s 166us/step - loss: 0.8776 - acc: 0.7019 - val_loss: nan - val_acc: 0.7239\n",
      "Epoch 5/40\n",
      "110288/110288 [==============================] - 18s 166us/step - loss: 0.8370 - acc: 0.7082 - val_loss: nan - val_acc: 0.7173\n",
      "Epoch 6/40\n",
      "110288/110288 [==============================] - 18s 166us/step - loss: 0.7863 - acc: 0.7247 - val_loss: nan - val_acc: 0.7353\n",
      "Epoch 7/40\n",
      "110288/110288 [==============================] - 18s 167us/step - loss: 0.7508 - acc: 0.7389 - val_loss: nan - val_acc: 0.7503\n",
      "Epoch 8/40\n",
      "110288/110288 [==============================] - 18s 166us/step - loss: 0.6915 - acc: 0.7615 - val_loss: nan - val_acc: 0.7861\n",
      "Epoch 9/40\n",
      "110288/110288 [==============================] - 18s 166us/step - loss: 0.6728 - acc: 0.7658 - val_loss: nan - val_acc: 0.7834\n",
      "Epoch 10/40\n",
      "110288/110288 [==============================] - 18s 166us/step - loss: 0.6390 - acc: 0.7789 - val_loss: nan - val_acc: 0.7803\n",
      "Epoch 11/40\n",
      "110288/110288 [==============================] - 18s 166us/step - loss: 0.6822 - acc: 0.7652 - val_loss: nan - val_acc: 0.7801\n",
      "Epoch 12/40\n",
      "110288/110288 [==============================] - 18s 166us/step - loss: 0.6138 - acc: 0.7912 - val_loss: nan - val_acc: 0.8136\n",
      "Epoch 13/40\n",
      "110288/110288 [==============================] - 18s 166us/step - loss: 0.6519 - acc: 0.7795 - val_loss: nan - val_acc: 0.7811\n",
      "Epoch 14/40\n",
      "110288/110288 [==============================] - 18s 166us/step - loss: 0.5790 - acc: 0.8025 - val_loss: nan - val_acc: 0.8325\n",
      "Epoch 15/40\n",
      "110288/110288 [==============================] - 18s 166us/step - loss: 0.5798 - acc: 0.8009 - val_loss: nan - val_acc: 0.8370\n",
      "Epoch 16/40\n",
      "110288/110288 [==============================] - 18s 166us/step - loss: 0.5554 - acc: 0.8122 - val_loss: nan - val_acc: 0.8247\n",
      "Epoch 17/40\n",
      "110288/110288 [==============================] - 18s 166us/step - loss: 0.5987 - acc: 0.7923 - val_loss: nan - val_acc: 0.7811\n",
      "Epoch 18/40\n",
      "110288/110288 [==============================] - 18s 166us/step - loss: 0.5648 - acc: 0.8064 - val_loss: nan - val_acc: 0.8316\n",
      "Epoch 19/40\n",
      "110288/110288 [==============================] - 18s 166us/step - loss: 0.5459 - acc: 0.8154 - val_loss: nan - val_acc: 0.7920\n",
      "Epoch 20/40\n",
      "110288/110288 [==============================] - 18s 165us/step - loss: 0.5783 - acc: 0.7990 - val_loss: nan - val_acc: 0.7901\n",
      "Epoch 21/40\n",
      "110288/110288 [==============================] - 18s 166us/step - loss: 0.5911 - acc: 0.8050 - val_loss: nan - val_acc: 0.8424\n",
      "Epoch 22/40\n",
      "110288/110288 [==============================] - 18s 166us/step - loss: 0.5189 - acc: 0.8232 - val_loss: nan - val_acc: 0.8052\n",
      "Epoch 23/40\n",
      "110288/110288 [==============================] - 18s 166us/step - loss: 0.5861 - acc: 0.8014 - val_loss: nan - val_acc: 0.8499\n",
      "Epoch 24/40\n",
      "110288/110288 [==============================] - 18s 166us/step - loss: 0.4505 - acc: 0.8513 - val_loss: nan - val_acc: 0.7504\n",
      "Epoch 25/40\n",
      "110288/110288 [==============================] - 18s 166us/step - loss: 0.5526 - acc: 0.8132 - val_loss: nan - val_acc: 0.8529\n",
      "Epoch 26/40\n",
      "110288/110288 [==============================] - 18s 166us/step - loss: 0.5539 - acc: 0.8124 - val_loss: nan - val_acc: 0.8357\n",
      "Epoch 27/40\n",
      "110288/110288 [==============================] - 18s 166us/step - loss: 0.4505 - acc: 0.8466 - val_loss: nan - val_acc: 0.8622\n",
      "Epoch 28/40\n",
      "110288/110288 [==============================] - 18s 166us/step - loss: 0.4932 - acc: 0.8295 - val_loss: nan - val_acc: 0.8365\n",
      "Epoch 29/40\n",
      "110288/110288 [==============================] - 18s 166us/step - loss: 0.5849 - acc: 0.7856 - val_loss: nan - val_acc: 0.7978\n",
      "Epoch 30/40\n",
      "110288/110288 [==============================] - 18s 167us/step - loss: 0.5557 - acc: 0.7975 - val_loss: nan - val_acc: 0.8014\n",
      "Epoch 31/40\n",
      "110288/110288 [==============================] - 18s 167us/step - loss: 0.5165 - acc: 0.8204 - val_loss: nan - val_acc: 0.8399\n",
      "Epoch 32/40\n",
      "110288/110288 [==============================] - 18s 167us/step - loss: 0.5837 - acc: 0.8066 - val_loss: nan - val_acc: 0.7965\n",
      "Epoch 33/40\n",
      "110288/110288 [==============================] - 18s 167us/step - loss: 0.4860 - acc: 0.8367 - val_loss: nan - val_acc: 0.8092\n",
      "Epoch 34/40\n",
      "110288/110288 [==============================] - 18s 167us/step - loss: 0.5145 - acc: 0.8222 - val_loss: nan - val_acc: 0.8371\n",
      "Epoch 35/40\n",
      "110288/110288 [==============================] - 18s 167us/step - loss: 0.5005 - acc: 0.8292 - val_loss: nan - val_acc: 0.8643\n",
      "Epoch 36/40\n",
      "110288/110288 [==============================] - 18s 167us/step - loss: 0.5548 - acc: 0.8160 - val_loss: nan - val_acc: 0.7782\n",
      "Epoch 37/40\n",
      "110288/110288 [==============================] - 18s 167us/step - loss: 0.5201 - acc: 0.8190 - val_loss: nan - val_acc: 0.8556\n",
      "Epoch 38/40\n",
      "110288/110288 [==============================] - 18s 167us/step - loss: 0.5180 - acc: 0.8244 - val_loss: nan - val_acc: 0.8686\n",
      "Epoch 39/40\n",
      "110288/110288 [==============================] - 18s 167us/step - loss: 0.4591 - acc: 0.8439 - val_loss: nan - val_acc: 0.8139\n",
      "Epoch 40/40\n",
      "110288/110288 [==============================] - 18s 167us/step - loss: 0.4508 - acc: 0.8480 - val_loss: nan - val_acc: 0.8438\n",
      "French: new jersey est parfois parfois en cours de l' automne neigeux il est <PAD> <PAD> <PAD> <PAD> <PAD> <PAD> <PAD> <PAD>\n"
     ]
    }
   ],
   "source": [
    "def simple_model(input_shape, output_sequence_length, english_vocab_size, french_vocab_size):\n",
    "    \"\"\"\n",
    "    :param input_shape: Tuple of input shape\n",
    "    :param output_sequence_length: Length of output sequence\n",
    "    :param english_vocab_size: Number of unique English words in the dataset\n",
    "    :param french_vocab_size: Number of unique French words in the dataset\n",
    "    :return: Keras model built, but not trained\n",
    "    \"\"\"\n",
    "    learning_rate = 0.009\n",
    "    inputs = Input(input_shape[1:])\n",
    "    rnn_layer = GRU(512,return_sequences=True)(inputs)\n",
    "    logits = TimeDistributed(Dense(french_vocab_size))(rnn_layer)\n",
    "    activation = Activation('softmax')(logits)\n",
    "    model = Model(inputs,activation)\n",
    "    model.compile(loss=sparse_categorical_crossentropy,\n",
    "                  optimizer=Adam(learning_rate),\n",
    "                  metrics=['accuracy'])\n",
    "    return model\n",
    "tests.test_simple_model(simple_model)\n",
    "\n",
    "# Reshaping the input to work with a basic RNN\n",
    "tmp_x = pad(preproc_english_sentences, max_french_sequence_length)\n",
    "tmp_x = tmp_x.reshape((-1, preproc_french_sentences.shape[-2], 1))\n",
    "\n",
    "test_sentence = [i[0] for i in tmp_x[0]]\n",
    "# print(test_sentence)\n",
    "index_to_words = {id: word for word, id in english_tokenizer.word_index.items()}\n",
    "index_to_words[0] = '<PAD>'\n",
    "english_sentence = [index_to_words[i] for i in test_sentence]\n",
    "print('English:',english_sentence)\n",
    "\n",
    "# Train the neural network\n",
    "simple_rnn_model = simple_model(\n",
    "    tmp_x.shape,\n",
    "    max_french_sequence_length,\n",
    "    english_vocab_size,\n",
    "    french_vocab_size)\n",
    "simple_rnn_model.fit(tmp_x, preproc_french_sentences, batch_size=1024, epochs=40, validation_split=0.2)\n",
    "\n",
    "# Print prediction(s)\n",
    "print('French:',logits_to_text(simple_rnn_model.predict(tmp_x[:1])[0], french_tokenizer))\n",
    "# best train acc = 84.8%, val accuracy = 86.86%"
   ]
  },
  {
   "cell_type": "markdown",
   "metadata": {},
   "source": [
    "### Model 2: Embedding\n",
    "![RNN](images/embedding.png)\n",
    "There's a better representation of words than simply converting them to IDs, called word embeddings.  An embedding is a vector representation of the word that is close to similar words in n-dimensional space, where the n represents the size of the embedding vectors.\n",
    "\n",
    "This model is a RNN model using embedding."
   ]
  },
  {
   "cell_type": "code",
   "execution_count": null,
   "metadata": {},
   "outputs": [],
   "source": [
    "def embed_model(input_shape, output_sequence_length, english_vocab_size, french_vocab_size):\n",
    "    \"\"\"\n",
    "    :param input_shape: Tuple of input shape\n",
    "    :param output_sequence_length: Length of output sequence\n",
    "    :param english_vocab_size: Number of unique English words in the dataset\n",
    "    :param french_vocab_size: Number of unique French words in the dataset\n",
    "    :return: Keras model built, but not trained\n",
    "    \"\"\"\n",
    "    print('Embed_input_shape',input_shape[1:])\n",
    "    print('Output sequence length',output_sequence_length)\n",
    "    print('English vocab size:',english_vocab_size,'French vocab size:',french_vocab_size)\n",
    "    \n",
    "    learning_rate = 0.008\n",
    "    hidden_layer = 256\n",
    "    \n",
    "    embed_input = Input(input_shape[1:])\n",
    "    embedded = Embedding(english_vocab_size,hidden_layer, input_length=output_sequence_length)(embed_input)\n",
    "    rnn_layer = GRU(hidden_layer,return_sequences=True)(embedded)\n",
    "    logits = TimeDistributed(Dense(french_vocab_size))(rnn_layer)\n",
    "    activation = Activation('softmax')(logits)\n",
    "    model = Model(embed_input,activation)\n",
    "    model.compile(loss=sparse_categorical_crossentropy,optimizer=Adam(learning_rate),metrics=['accuracy'])\n",
    "    print(model.summary())\n",
    "    return model\n",
    "tests.test_embed_model(embed_model)\n",
    "\n",
    "embedded_rnn_model = embed_model(tmp_x.shape,max_french_sequence_length,english_vocab_size, french_vocab_size)\n",
    "\n",
    "tmp_x = pad(preproc_english_sentences, max_french_sequence_length)\n",
    "test_sentence = [i[0] for i in tmp_x.reshape((-1, preproc_french_sentences.shape[-2], 1))[0]]\n",
    "index_to_words = {id: word for word, id in english_tokenizer.word_index.items()}\n",
    "index_to_words[0] = '<PAD>'\n",
    "english_sentence = [index_to_words[i] for i in test_sentence]\n",
    "print('English:',english_sentence)\n",
    "\n",
    "# Train the neural network\n",
    "embedded_rnn_model.fit(tmp_x,preproc_french_sentences,batch_size=1024,epochs=30,validation_split=0.2)\n",
    "result = logits_to_text(embedded_rnn_model.predict(tmp_x[:1])[0],french_tokenizer)\n",
    "# print prediction(s)\n",
    "print('French:',logits_to_text(embedded_rnn_model.predict(tmp_x[:1])[0], french_tokenizer))\n",
    "# best train accuracy = 93.65%, val accuracy = 93.42%"
   ]
  },
  {
   "cell_type": "markdown",
   "metadata": {},
   "source": [
    "### Model 3: Bidirectional RNNs (IMPLEMENTATION)\n",
    "![RNN](images/bidirectional.png)\n",
    "One restriction of a RNN is that it can't see the future input, only the past.  This is where bidirectional recurrent neural networks come in.  They are able to see the future data."
   ]
  },
  {
   "cell_type": "code",
   "execution_count": 14,
   "metadata": {},
   "outputs": [
    {
     "name": "stdout",
     "output_type": "stream",
     "text": [
      "input_shape (137861, 21, 1)\n",
      "_________________________________________________________________\n",
      "Layer (type)                 Output Shape              Param #   \n",
      "=================================================================\n",
      "input_layer (InputLayer)     (None, 21, 1)             0         \n",
      "_________________________________________________________________\n",
      "bidirectional_5 (Bidirection (None, 21, 768)           889344    \n",
      "_________________________________________________________________\n",
      "time_distributed_3 (TimeDist (None, 21, 344)           264536    \n",
      "=================================================================\n",
      "Total params: 1,153,880\n",
      "Trainable params: 1,153,880\n",
      "Non-trainable params: 0\n",
      "_________________________________________________________________\n",
      "None\n",
      "English: ['new', 'jersey', 'is', 'sometimes', 'quiet', 'during', 'autumn', 'and', 'it', 'is', 'snowy', 'in', 'april', '<PAD>', '<PAD>', '<PAD>', '<PAD>', '<PAD>', '<PAD>', '<PAD>', '<PAD>']\n",
      "input_shape (137861, 21, 1)\n",
      "_________________________________________________________________\n",
      "Layer (type)                 Output Shape              Param #   \n",
      "=================================================================\n",
      "input_layer (InputLayer)     (None, 21, 1)             0         \n",
      "_________________________________________________________________\n",
      "bidirectional_6 (Bidirection (None, 21, 768)           889344    \n",
      "_________________________________________________________________\n",
      "time_distributed_4 (TimeDist (None, 21, 344)           264536    \n",
      "=================================================================\n",
      "Total params: 1,153,880\n",
      "Trainable params: 1,153,880\n",
      "Non-trainable params: 0\n",
      "_________________________________________________________________\n",
      "None\n",
      "Train on 110288 samples, validate on 27573 samples\n",
      "Epoch 1/50\n",
      "110288/110288 [==============================] - 29s 266us/step - loss: 1.2597 - acc: 0.6457 - val_loss: nan - val_acc: 0.6944\n",
      "Epoch 2/50\n",
      "110288/110288 [==============================] - 29s 259us/step - loss: 0.8616 - acc: 0.7066 - val_loss: nan - val_acc: 0.7276\n",
      "Epoch 3/50\n",
      "110288/110288 [==============================] - 29s 259us/step - loss: 0.7642 - acc: 0.7273 - val_loss: nan - val_acc: 0.7629\n",
      "Epoch 4/50\n",
      "110288/110288 [==============================] - 29s 260us/step - loss: 0.7110 - acc: 0.7363 - val_loss: nan - val_acc: 0.7370\n",
      "Epoch 5/50\n",
      "110288/110288 [==============================] - 29s 259us/step - loss: 0.6590 - acc: 0.7512 - val_loss: nan - val_acc: 0.7612\n",
      "Epoch 6/50\n",
      "110288/110288 [==============================] - 29s 259us/step - loss: 0.6333 - acc: 0.7606 - val_loss: nan - val_acc: 0.7790\n",
      "Epoch 7/50\n",
      "110288/110288 [==============================] - 29s 259us/step - loss: 0.6028 - acc: 0.7743 - val_loss: nan - val_acc: 0.7685\n",
      "Epoch 8/50\n",
      "110288/110288 [==============================] - 29s 259us/step - loss: 0.5899 - acc: 0.7782 - val_loss: nan - val_acc: 0.7834\n",
      "Epoch 9/50\n",
      "110288/110288 [==============================] - 29s 259us/step - loss: 0.5547 - acc: 0.7936 - val_loss: nan - val_acc: 0.7684\n",
      "Epoch 10/50\n",
      "110288/110288 [==============================] - 29s 259us/step - loss: 0.5643 - acc: 0.7802 - val_loss: nan - val_acc: 0.7808\n",
      "Epoch 11/50\n",
      "110288/110288 [==============================] - 29s 259us/step - loss: 0.5440 - acc: 0.7931 - val_loss: nan - val_acc: 0.8168\n",
      "Epoch 12/50\n",
      "110288/110288 [==============================] - 29s 260us/step - loss: 0.5258 - acc: 0.7996 - val_loss: nan - val_acc: 0.8071\n",
      "Epoch 13/50\n",
      "110288/110288 [==============================] - 29s 259us/step - loss: 0.5289 - acc: 0.7975 - val_loss: nan - val_acc: 0.7856\n",
      "Epoch 14/50\n",
      "110288/110288 [==============================] - 29s 259us/step - loss: 0.5058 - acc: 0.8049 - val_loss: nan - val_acc: 0.8127\n",
      "Epoch 15/50\n",
      "110288/110288 [==============================] - 29s 259us/step - loss: 0.5061 - acc: 0.8067 - val_loss: nan - val_acc: 0.8084\n",
      "Epoch 16/50\n",
      "110288/110288 [==============================] - 29s 259us/step - loss: 0.5005 - acc: 0.8120 - val_loss: nan - val_acc: 0.8494\n",
      "Epoch 17/50\n",
      "110288/110288 [==============================] - 29s 258us/step - loss: 0.5035 - acc: 0.8117 - val_loss: nan - val_acc: 0.7654\n",
      "Epoch 18/50\n",
      "110288/110288 [==============================] - 29s 260us/step - loss: 0.5102 - acc: 0.7970 - val_loss: nan - val_acc: 0.7973\n",
      "Epoch 19/50\n",
      "110288/110288 [==============================] - 29s 259us/step - loss: 0.4960 - acc: 0.8031 - val_loss: nan - val_acc: 0.8010\n",
      "Epoch 20/50\n",
      "110288/110288 [==============================] - 29s 260us/step - loss: 0.4849 - acc: 0.8082 - val_loss: nan - val_acc: 0.8113\n",
      "Epoch 21/50\n",
      "110288/110288 [==============================] - 29s 260us/step - loss: 0.4672 - acc: 0.8141 - val_loss: nan - val_acc: 0.8124\n",
      "Epoch 22/50\n",
      "110288/110288 [==============================] - 29s 259us/step - loss: 0.5089 - acc: 0.8019 - val_loss: nan - val_acc: 0.8123\n",
      "Epoch 23/50\n",
      "110288/110288 [==============================] - 29s 259us/step - loss: 0.4492 - acc: 0.8221 - val_loss: nan - val_acc: 0.7776\n",
      "Epoch 24/50\n",
      "110288/110288 [==============================] - 29s 259us/step - loss: 0.4741 - acc: 0.8120 - val_loss: nan - val_acc: 0.8037\n",
      "Epoch 25/50\n",
      "110288/110288 [==============================] - 29s 259us/step - loss: 0.4611 - acc: 0.8131 - val_loss: nan - val_acc: 0.7837\n",
      "Epoch 26/50\n",
      "110288/110288 [==============================] - 29s 260us/step - loss: 0.4942 - acc: 0.8045 - val_loss: nan - val_acc: 0.8325\n",
      "Epoch 27/50\n",
      "110288/110288 [==============================] - 29s 259us/step - loss: 0.4700 - acc: 0.8154 - val_loss: nan - val_acc: 0.8218\n",
      "Epoch 28/50\n",
      "110288/110288 [==============================] - 29s 258us/step - loss: 0.4636 - acc: 0.8163 - val_loss: nan - val_acc: 0.7575\n",
      "Epoch 29/50\n",
      "110288/110288 [==============================] - 28s 258us/step - loss: 0.5117 - acc: 0.8020 - val_loss: nan - val_acc: 0.8143\n",
      "Epoch 30/50\n",
      "110288/110288 [==============================] - 28s 258us/step - loss: 0.4305 - acc: 0.8304 - val_loss: nan - val_acc: 0.8309\n",
      "Epoch 31/50\n",
      "110288/110288 [==============================] - 28s 258us/step - loss: 0.4786 - acc: 0.8147 - val_loss: nan - val_acc: 0.7812\n",
      "Epoch 32/50\n",
      "110288/110288 [==============================] - 28s 258us/step - loss: 0.4484 - acc: 0.8230 - val_loss: nan - val_acc: 0.8388\n",
      "Epoch 33/50\n",
      "110288/110288 [==============================] - 28s 258us/step - loss: 0.4521 - acc: 0.8168 - val_loss: nan - val_acc: 0.8392\n",
      "Epoch 34/50\n",
      "110288/110288 [==============================] - 28s 258us/step - loss: 0.4667 - acc: 0.8137 - val_loss: nan - val_acc: 0.8210\n",
      "Epoch 35/50\n",
      "110288/110288 [==============================] - 28s 258us/step - loss: 0.4638 - acc: 0.8142 - val_loss: nan - val_acc: 0.8134\n",
      "Epoch 36/50\n",
      "110288/110288 [==============================] - 29s 258us/step - loss: 0.4615 - acc: 0.8214 - val_loss: nan - val_acc: 0.8534\n",
      "Epoch 37/50\n",
      "110288/110288 [==============================] - 29s 258us/step - loss: 0.4570 - acc: 0.8251 - val_loss: nan - val_acc: 0.8200\n",
      "Epoch 38/50\n",
      "110288/110288 [==============================] - 29s 259us/step - loss: 0.4730 - acc: 0.8124 - val_loss: nan - val_acc: 0.7726\n",
      "Epoch 39/50\n",
      "110288/110288 [==============================] - 29s 259us/step - loss: 0.4317 - acc: 0.8342 - val_loss: nan - val_acc: 0.7854\n",
      "Epoch 40/50\n",
      "110288/110288 [==============================] - 29s 259us/step - loss: 0.4399 - acc: 0.8406 - val_loss: nan - val_acc: 0.7995\n",
      "Epoch 41/50\n",
      "110288/110288 [==============================] - 29s 259us/step - loss: 0.4563 - acc: 0.8152 - val_loss: nan - val_acc: 0.7748\n",
      "Epoch 42/50\n",
      "110288/110288 [==============================] - 29s 259us/step - loss: 0.4410 - acc: 0.8360 - val_loss: nan - val_acc: 0.8429\n",
      "Epoch 43/50\n",
      "110288/110288 [==============================] - 29s 259us/step - loss: 0.4266 - acc: 0.8489 - val_loss: nan - val_acc: 0.8426\n",
      "Epoch 44/50\n",
      "110288/110288 [==============================] - 29s 259us/step - loss: 0.4460 - acc: 0.8431 - val_loss: nan - val_acc: 0.8626\n",
      "Epoch 45/50\n",
      "110288/110288 [==============================] - 29s 259us/step - loss: 0.3969 - acc: 0.8580 - val_loss: nan - val_acc: 0.8230\n",
      "Epoch 46/50\n",
      "110288/110288 [==============================] - 29s 260us/step - loss: 0.4014 - acc: 0.8605 - val_loss: nan - val_acc: 0.8722\n",
      "Epoch 47/50\n",
      "110288/110288 [==============================] - 29s 259us/step - loss: 0.3705 - acc: 0.8689 - val_loss: nan - val_acc: 0.8618\n",
      "Epoch 48/50\n",
      "110288/110288 [==============================] - 29s 260us/step - loss: 0.4271 - acc: 0.8502 - val_loss: nan - val_acc: 0.8571\n",
      "Epoch 49/50\n",
      "110288/110288 [==============================] - 29s 259us/step - loss: 0.3739 - acc: 0.8706 - val_loss: nan - val_acc: 0.8824\n",
      "Epoch 50/50\n",
      "110288/110288 [==============================] - 29s 260us/step - loss: 0.3761 - acc: 0.8714 - val_loss: nan - val_acc: 0.8739\n",
      "French: new jersey est parfois calme en l' de il il il est neigeux en <PAD> <PAD> <PAD> <PAD> <PAD> <PAD> <PAD>\n"
     ]
    }
   ],
   "source": [
    "def bd_model(input_shape, output_sequence_length, english_vocab_size, french_vocab_size):\n",
    "    \"\"\"\n",
    "    :param input_shape: Tuple of input shape\n",
    "    :param output_sequence_length: Length of output sequence\n",
    "    :param english_vocab_size: Number of unique English words in the dataset\n",
    "    :param french_vocab_size: Number of unique French words in the dataset\n",
    "    :return: Keras model built, but not trained\n",
    "    \"\"\"\n",
    "    learning_rate = 0.008\n",
    "    hidden_layer = 384\n",
    "#     print('input_shape',input_shape)\n",
    "    input_layer = Input(shape=input_shape[1:],\n",
    "                        dtype='float32',\n",
    "                        name='input_layer')\n",
    "    x = Bidirectional(GRU(hidden_layer, return_sequences=True))(input_layer)\n",
    "    output_layer = TimeDistributed(Dense(french_vocab_size,\n",
    "                         activation='softmax',\n",
    "                         name='output_layer'))(x)\n",
    "    model = Model(inputs=input_layer, outputs=output_layer)\n",
    "    \n",
    "    model.compile(loss=sparse_categorical_crossentropy,optimizer=Adam(learning_rate),metrics=['accuracy'])\n",
    "    print(model.summary())\n",
    "    return model\n",
    "tests.test_bd_model(bd_model)\n",
    "\n",
    "tmp_x = pad(preproc_english_sentences, max_french_sequence_length)\n",
    "tmp_x = tmp_x.reshape((-1, preproc_french_sentences.shape[-2], 1))\n",
    "\n",
    "test_sentence = [i[0] for i in tmp_x[0]]\n",
    "# print(test_sentence)\n",
    "index_to_words = {id: word for word, id in english_tokenizer.word_index.items()}\n",
    "index_to_words[0] = '<PAD>'\n",
    "english_sentence = [index_to_words[i] for i in test_sentence]\n",
    "print('English:',english_sentence)\n",
    "\n",
    "# Train the neural network\n",
    "bi_dir_rnn_model = bd_model(\n",
    "    tmp_x.shape,\n",
    "    max_french_sequence_length,\n",
    "    english_vocab_size,\n",
    "    french_vocab_size)\n",
    "bi_dir_rnn_model.fit(tmp_x, preproc_french_sentences, batch_size=512, epochs=70, validation_split=0.2)\n",
    "\n",
    "# Print prediction(s)\n",
    "print('French:',logits_to_text(bi_dir_rnn_model.predict(tmp_x[:1])[0], french_tokenizer))\n",
    "# best train accuracy = 87.14%, val accuracy = 87.36%"
   ]
  },
  {
   "cell_type": "markdown",
   "metadata": {},
   "source": [
    "### Model 4: Encoder-Decoder\n",
    "Time to look at encoder-decoder models.  This model is made up of an encoder and decoder. The encoder creates a matrix representation of the sentence.  The decoder takes this matrix as input and predicts the translation as output."
   ]
  },
  {
   "cell_type": "code",
   "execution_count": 22,
   "metadata": {},
   "outputs": [
    {
     "name": "stdout",
     "output_type": "stream",
     "text": [
      "_________________________________________________________________\n",
      "Layer (type)                 Output Shape              Param #   \n",
      "=================================================================\n",
      "input_layer (InputLayer)     (None, 21, 1)             0         \n",
      "_________________________________________________________________\n",
      "encoder_2 (GRU)              (None, 256)               198144    \n",
      "_________________________________________________________________\n",
      "repeat_vector_17 (RepeatVect (None, 21, 256)           0         \n",
      "_________________________________________________________________\n",
      "decoder (GRU)                (None, 21, 256)           393984    \n",
      "_________________________________________________________________\n",
      "time_distributed_15 (TimeDis (None, 21, 344)           88408     \n",
      "=================================================================\n",
      "Total params: 680,536\n",
      "Trainable params: 680,536\n",
      "Non-trainable params: 0\n",
      "_________________________________________________________________\n",
      "None\n",
      "Train on 110288 samples, validate on 27573 samples\n",
      "Epoch 1/20\n",
      "110288/110288 [==============================] - 20s 185us/step - loss: 2.6523 - acc: 0.4682 - val_loss: nan - val_acc: 0.5181\n",
      "Epoch 2/20\n",
      "110288/110288 [==============================] - 19s 173us/step - loss: 1.7938 - acc: 0.5507 - val_loss: nan - val_acc: 0.5828\n",
      "Epoch 3/20\n",
      "110288/110288 [==============================] - 19s 174us/step - loss: 1.4932 - acc: 0.5952 - val_loss: nan - val_acc: 0.6079\n",
      "Epoch 4/20\n",
      "110288/110288 [==============================] - 19s 173us/step - loss: 1.3541 - acc: 0.6209 - val_loss: nan - val_acc: 0.6264\n",
      "Epoch 5/20\n",
      "110288/110288 [==============================] - 19s 174us/step - loss: 1.2661 - acc: 0.6367 - val_loss: nan - val_acc: 0.6441\n",
      "Epoch 6/20\n",
      "110288/110288 [==============================] - 19s 173us/step - loss: 1.2525 - acc: 0.6371 - val_loss: nan - val_acc: 0.6526\n",
      "Epoch 7/20\n",
      "110288/110288 [==============================] - 19s 174us/step - loss: 1.1607 - acc: 0.6556 - val_loss: nan - val_acc: 0.6547\n",
      "Epoch 8/20\n",
      "110288/110288 [==============================] - 19s 173us/step - loss: 1.1009 - acc: 0.6686 - val_loss: nan - val_acc: 0.6807\n",
      "Epoch 9/20\n",
      "110288/110288 [==============================] - 19s 173us/step - loss: 1.1170 - acc: 0.6662 - val_loss: nan - val_acc: 0.6780\n",
      "Epoch 10/20\n",
      "110288/110288 [==============================] - 19s 173us/step - loss: 1.0491 - acc: 0.6789 - val_loss: nan - val_acc: 0.6779\n",
      "Epoch 11/20\n",
      "110288/110288 [==============================] - 19s 174us/step - loss: 1.0771 - acc: 0.6701 - val_loss: nan - val_acc: 0.6859\n",
      "Epoch 12/20\n",
      "110288/110288 [==============================] - 19s 174us/step - loss: 1.0199 - acc: 0.6864 - val_loss: nan - val_acc: 0.7006\n",
      "Epoch 13/20\n",
      "110288/110288 [==============================] - 19s 174us/step - loss: 0.9635 - acc: 0.6993 - val_loss: nan - val_acc: 0.6974\n",
      "Epoch 14/20\n",
      "110288/110288 [==============================] - 19s 174us/step - loss: 0.9477 - acc: 0.7031 - val_loss: nan - val_acc: 0.7168\n",
      "Epoch 15/20\n",
      "110288/110288 [==============================] - 19s 173us/step - loss: 0.8964 - acc: 0.7191 - val_loss: nan - val_acc: 0.7240\n",
      "Epoch 16/20\n",
      "110288/110288 [==============================] - 19s 174us/step - loss: 0.8550 - acc: 0.7303 - val_loss: nan - val_acc: 0.7370\n",
      "Epoch 17/20\n",
      "110288/110288 [==============================] - 19s 174us/step - loss: 0.8662 - acc: 0.7245 - val_loss: nan - val_acc: 0.7325\n",
      "Epoch 18/20\n",
      "110288/110288 [==============================] - 19s 174us/step - loss: 0.8106 - acc: 0.7400 - val_loss: nan - val_acc: 0.7336\n",
      "Epoch 19/20\n",
      "110288/110288 [==============================] - 19s 174us/step - loss: 0.8031 - acc: 0.7388 - val_loss: nan - val_acc: 0.7457\n",
      "Epoch 20/20\n",
      "110288/110288 [==============================] - 19s 174us/step - loss: 0.7497 - acc: 0.7527 - val_loss: nan - val_acc: 0.7337\n"
     ]
    },
    {
     "data": {
      "text/plain": [
       "<keras.callbacks.History at 0x7fbbd061aa58>"
      ]
     },
     "execution_count": 22,
     "metadata": {},
     "output_type": "execute_result"
    }
   ],
   "source": [
    "def encdec_model(input_shape, output_sequence_length, english_vocab_size, french_vocab_size):\n",
    "    \"\"\"\n",
    "    :param input_shape: Tuple of input shape\n",
    "    :param output_sequence_length: Length of output sequence\n",
    "    :param english_vocab_size: Number of unique English words in the dataset\n",
    "    :param french_vocab_size: Number of unique French words in the dataset\n",
    "    :return: Keras model built, but not trained\n",
    "    \"\"\"\n",
    "    learning_rate = 0.005\n",
    "    hidden_layer = 256\n",
    "    # training encoder\n",
    "    encoder_input = Input(shape=input_shape[1:],dtype='float32',name='input_layer')\n",
    "    encoder_outputs = GRU(hidden_layer,name='encoder')(encoder_input)\n",
    "    rp_enc_output = RepeatVector(output_sequence_length)(encoder_outputs)\n",
    "    # training decoder \n",
    "    decoder = GRU(hidden_layer,return_sequences=True,name='decoder')\n",
    "    decoder_output = decoder(rp_enc_output)\n",
    "    decoder_output = TimeDistributed(Dense(french_vocab_size,activation='softmax'))(decoder_output)\n",
    "    \n",
    "    model = Model(encoder_input,decoder_output,name='training_model')\n",
    "    model.compile(loss=sparse_categorical_crossentropy,optimizer=Adam(learning_rate),metrics=['accuracy'])    \n",
    "    \n",
    "    return model\n",
    "tests.test_encdec_model(encdec_model)\n",
    "\n",
    "# Reshaping the input\n",
    "tmp_x = pad(preproc_english_sentences, max_french_sequence_length)\n",
    "tmp_x = tmp_x.reshape((-1, preproc_french_sentences.shape[-2], 1))\n",
    "\n",
    "# Train the neural network\n",
    "enc_dec_model = encdec_model(\n",
    "    tmp_x.shape,\n",
    "    max_french_sequence_length,\n",
    "    english_vocab_size,\n",
    "    french_vocab_size)\n",
    "print(enc_dec_model.summary())\n",
    "enc_dec_model.fit(tmp_x, preproc_french_sentences, batch_size=1024, epochs=20, validation_split=0.2)\n",
    "# best train accuracy = 77.73%, val accuracy = 79.27"
   ]
  },
  {
   "cell_type": "markdown",
   "metadata": {},
   "source": [
    "### Model 5 \n",
    "Combining all knowledge gained from the previous experiments, it seems the best model should include an embedding layer, should be bidirectional and have an encoder-decoder architecture."
   ]
  },
  {
   "cell_type": "code",
   "execution_count": 40,
   "metadata": {},
   "outputs": [
    {
     "name": "stdout",
     "output_type": "stream",
     "text": [
      "(137861, 15)\n",
      "Final Model Loaded\n"
     ]
    }
   ],
   "source": [
    "def model_final(input_shape, output_sequence_length, english_vocab_size, french_vocab_size):\n",
    "    \"\"\"\n",
    "    :param input_shape: Tuple of input shape\n",
    "    :param output_sequence_length: Length of output sequence\n",
    "    :param english_vocab_size: Number of unique English words in the dataset\n",
    "    :param french_vocab_size: Number of unique French words in the dataset\n",
    "    :return: Keras model built, but not trained\n",
    "    \"\"\"\n",
    "    learning_rate = 0.005\n",
    "    hidden_layer = 256\n",
    "    print(input_shape)\n",
    "    inputs = Input(shape=input_shape[1:])\n",
    "    embedded_inputs = Embedding(input_dim=english_vocab_size,output_dim=hidden_layer,\n",
    "                                input_length=output_sequence_length)(inputs)\n",
    "#     encoder_output = Bidirectional(GRU(hidden_layer,return_sequences=True,name='encoder_1'))(embedded_inputs)\n",
    "    encoder_output = Bidirectional(GRU(hidden_layer,name='encoder_2'))(embedded_inputs)\n",
    "    rp_enc_output = RepeatVector(output_sequence_length)(encoder_output)\n",
    "    \n",
    "    decoder = Bidirectional(GRU(hidden_layer,return_sequences=True,name='encoder'))(rp_enc_output)\n",
    "    final_output = TimeDistributed(Dense(french_vocab_size,activation='softmax',name='output_layer'))(decoder)\n",
    "    \n",
    "    model = Model(inputs=inputs,outputs=final_output)\n",
    "    model.compile(loss=sparse_categorical_crossentropy,optimizer=Adam(learning_rate),metrics=['accuracy'])\n",
    "    \n",
    "    return model\n",
    "tests.test_model_final(model_final)\n",
    "\n",
    "print('Final Model Loaded')"
   ]
  },
  {
   "cell_type": "markdown",
   "metadata": {},
   "source": [
    "## Prediction"
   ]
  },
  {
   "cell_type": "code",
   "execution_count": 53,
   "metadata": {},
   "outputs": [
    {
     "name": "stdout",
     "output_type": "stream",
     "text": [
      "(137861, 21)\n",
      "_________________________________________________________________\n",
      "Layer (type)                 Output Shape              Param #   \n",
      "=================================================================\n",
      "input_29 (InputLayer)        (None, 21)                0         \n",
      "_________________________________________________________________\n",
      "embedding_29 (Embedding)     (None, 21, 256)           50944     \n",
      "_________________________________________________________________\n",
      "bidirectional_62 (Bidirectio (None, 512)               787968    \n",
      "_________________________________________________________________\n",
      "repeat_vector_44 (RepeatVect (None, 21, 512)           0         \n",
      "_________________________________________________________________\n",
      "bidirectional_63 (Bidirectio (None, 21, 512)           1181184   \n",
      "_________________________________________________________________\n",
      "time_distributed_41 (TimeDis (None, 21, 344)           176472    \n",
      "=================================================================\n",
      "Total params: 2,196,568\n",
      "Trainable params: 2,196,568\n",
      "Non-trainable params: 0\n",
      "_________________________________________________________________\n",
      "None\n",
      "Train on 110288 samples, validate on 27573 samples\n",
      "Epoch 1/10\n",
      "110288/110288 [==============================] - 52s 475us/step - loss: 2.1260 - acc: 0.5158 - val_loss: nan - val_acc: 0.6221\n",
      "Epoch 2/10\n",
      "110288/110288 [==============================] - 45s 408us/step - loss: 1.0760 - acc: 0.7068 - val_loss: nan - val_acc: 0.7629\n",
      "Epoch 3/10\n",
      "110288/110288 [==============================] - 45s 408us/step - loss: 0.6400 - acc: 0.8129 - val_loss: nan - val_acc: 0.8686\n",
      "Epoch 4/10\n",
      "110288/110288 [==============================] - 45s 409us/step - loss: 0.3556 - acc: 0.8977 - val_loss: nan - val_acc: 0.9217\n",
      "Epoch 5/10\n",
      "110288/110288 [==============================] - 45s 409us/step - loss: 0.2052 - acc: 0.9424 - val_loss: nan - val_acc: 0.9508\n",
      "Epoch 6/10\n",
      "110288/110288 [==============================] - 45s 408us/step - loss: 0.1495 - acc: 0.9580 - val_loss: nan - val_acc: 0.9610\n",
      "Epoch 7/10\n",
      "110288/110288 [==============================] - 45s 409us/step - loss: 0.1144 - acc: 0.9674 - val_loss: nan - val_acc: 0.9684\n",
      "Epoch 8/10\n",
      "110288/110288 [==============================] - 45s 409us/step - loss: 0.0957 - acc: 0.9723 - val_loss: nan - val_acc: 0.9705\n",
      "Epoch 9/10\n",
      "110288/110288 [==============================] - 45s 409us/step - loss: 0.0932 - acc: 0.9728 - val_loss: nan - val_acc: 0.9646\n",
      "Epoch 10/10\n",
      "110288/110288 [==============================] - 45s 410us/step - loss: 0.0809 - acc: 0.9763 - val_loss: nan - val_acc: 0.9693\n",
      "Sample 1:\n",
      "il a vu un vieux camion jaune <PAD> <PAD> <PAD> <PAD> <PAD> <PAD> <PAD> <PAD> <PAD> <PAD> <PAD> <PAD> <PAD> <PAD>\n",
      "Il a vu un vieux camion jaune\n",
      "Sample 2:\n",
      "new jersey est parfois calme pendant l' automne et il est neigeux en avril <PAD> <PAD> <PAD> <PAD> <PAD> <PAD> <PAD>\n",
      "new jersey est parfois calme pendant l' automne et il est neigeux en avril <PAD> <PAD> <PAD> <PAD> <PAD> <PAD> <PAD>\n"
     ]
    }
   ],
   "source": [
    "def final_predictions(x, y, x_tk, y_tk):\n",
    "    \"\"\"\n",
    "    Gets predictions using the final model\n",
    "    :param x: Preprocessed English data\n",
    "    :param y: Preprocessed French data\n",
    "    :param x_tk: English tokenizer\n",
    "    :param y_tk: French tokenizer\n",
    "    \"\"\"\n",
    "    tmp_x = pad(preproc_english_sentences, max_french_sequence_length)\n",
    "    model = model_final(tmp_x.shape, y.shape[1], len(x_tk.word_index), len(y_tk.word_index))\n",
    "    \n",
    "    print(model.summary())\n",
    "    model.fit(tmp_x, y, batch_size=1024, epochs=10, validation_split=0.2)\n",
    "    \n",
    "    ## \n",
    "    y_id_to_word = {value: key for key, value in y_tk.word_index.items()}\n",
    "    y_id_to_word[0] = '<PAD>'\n",
    "    sentence = 'he saw a old yellow truck'\n",
    "    sentence = [x_tk.word_index[word] for word in sentence.split()]\n",
    "    \n",
    "    sentence = pad_sequences([sentence], maxlen=x.shape[-1], padding='post')\n",
    "    sentences = np.array([sentence[0], x[0]])\n",
    "    tmp_sentences = pad(sentences, max_french_sequence_length)\n",
    "    predictions = model.predict(tmp_sentences, len(tmp_sentences))\n",
    "    print('Sample 1:')\n",
    "    print(' '.join([y_id_to_word[np.argmax(x)] for x in predictions[0]]))\n",
    "    print('Il a vu un vieux camion jaune')\n",
    "    print('Sample 2:')\n",
    "    print(' '.join([y_id_to_word[np.argmax(x)] for x in predictions[1]]))\n",
    "    print(' '.join([y_id_to_word[np.max(x)] for x in y[0]]))\n",
    "\n",
    "\n",
    "final_predictions(preproc_english_sentences, preproc_french_sentences, english_tokenizer, french_tokenizer)"
   ]
  },
  {
   "cell_type": "markdown",
   "metadata": {},
   "source": [
    "## Future Enhancements\n",
    "\n",
    "This project focuses on learning various network architectures for machine translation, but we did not evaluate the models according to best practices by splitting the data into separate test & training sets -- so the model accuracy is overstated. Using [`sklearn.model_selection.train_test_split()`] function to create separate training & test datasets we can then retrain each of the models using only the training set and evaluate the prediction accuracy using the hold out test set."
   ]
  },
  {
   "cell_type": "code",
   "execution_count": null,
   "metadata": {},
   "outputs": [],
   "source": []
  }
 ],
 "metadata": {
  "kernelspec": {
   "display_name": "Python 3",
   "language": "python",
   "name": "python3"
  },
  "language_info": {
   "codemirror_mode": {
    "name": "ipython",
    "version": 3
   },
   "file_extension": ".py",
   "mimetype": "text/x-python",
   "name": "python",
   "nbconvert_exporter": "python",
   "pygments_lexer": "ipython3",
   "version": "3.8.10"
  }
 },
 "nbformat": 4,
 "nbformat_minor": 1
}
